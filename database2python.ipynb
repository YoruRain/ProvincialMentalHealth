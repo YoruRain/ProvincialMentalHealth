{
 "cells": [
  {
   "cell_type": "code",
   "execution_count": 1,
   "metadata": {},
   "outputs": [],
   "source": [
    "import json\n",
    "import pymysql\n",
    "\n",
    "# 读取配置文件\n",
    "with open('weibo_config.json', 'r') as f:\n",
    "    config = json.load(f)"
   ]
  },
  {
   "cell_type": "markdown",
   "metadata": {},
   "source": [
    "`user`表属性：\n",
    "\n",
    "- `id`：（唯一）用户ID\n",
    "- `screen_name`：用户昵称\n",
    "- `gender`：性别\n",
    "- `statuses_count`：（总）微博数\n",
    "\n",
    "`weibo`表属性：\n",
    "\n",
    "- `id`：（唯一）微博ID\n",
    "- `user_id`：用户ID\n",
    "- `text`：微博正文\n",
    "- `created_at`：微博发布时间\n",
    "- `attitudes_count`：微博点赞数\n",
    "- `comments_count`：微博评论数\n",
    "- `reposts_count`：微博转发数\n"
   ]
  },
  {
   "cell_type": "code",
   "execution_count": 2,
   "metadata": {},
   "outputs": [],
   "source": [
    "user_id_ip_file = r\"collecting\\user_id_ip.txt\"\n",
    "\n",
    "with open(user_id_ip_file, 'r', encoding='utf-8') as f:\n",
    "    lines = f.readlines()\n",
    "    id_ip_dict = {line.split(',')[0]: line.strip().split(',')[1] for line in lines}"
   ]
  },
  {
   "cell_type": "code",
   "execution_count": 3,
   "metadata": {},
   "outputs": [],
   "source": [
    "\n",
    "def execute_sql(sql, params=None):\n",
    "    try:\n",
    "        with pymysql.connect(**config['database']) as conn:\n",
    "            with conn.cursor() as cursor:\n",
    "                cursor.execute(sql, params)\n",
    "                result = cursor.fetchall()\n",
    "                return result\n",
    "    except Exception as e:\n",
    "        print(f\"执行SQL语句时出现错误：{e}\")\n",
    "        raise\n"
   ]
  },
  {
   "cell_type": "code",
   "execution_count": 8,
   "metadata": {},
   "outputs": [],
   "source": [
    "def execute_many_sql(sql, param_list):\n",
    "    try:\n",
    "        with pymysql.connect(**config['database']) as conn:\n",
    "            with conn.cursor() as cursor:\n",
    "                cursor.executemany(sql, param_list)\n",
    "            conn.commit()\n",
    "    except Exception as e:\n",
    "        print(f\"批量执行SQL时出错：{e}\")\n",
    "        raise\n",
    "\n",
    "sql = \"UPDATE `user` SET IP = %s WHERE id = %s\"\n",
    "param_list = [(ip, uid) for uid, ip in id_ip_dict.items()]\n",
    "execute_many_sql(sql, param_list)"
   ]
  },
  {
   "cell_type": "code",
   "execution_count": null,
   "metadata": {},
   "outputs": [],
   "source": [
    "\n",
    "user_attributes = (\"user_id\", \"screen_name\", \"sex\", \"statuses_count\")\n",
    "weibo_attributes = (\"user_id\", \"weibo_id\", \"text\", \"created_at\", \"attitudes_count\", \"comments_count\", \"reposts_count\")\n",
    "\n",
    "\n",
    "\n",
    "\n",
    "\n",
    "select_query = \"\"\"\n",
    "SELECT id, screen_name, gender, statuses_count\n",
    "FROM `user`\n",
    "WHERE to_be_cleaned != 1\n",
    "LIMIT 100;\n",
    "\"\"\"\n",
    "\n",
    "users = execute_sql(select_query)\n",
    "\n",
    "user_dict = {}\n",
    "for u in users:\n",
    "    user = dict(zip(user_attributes, u))\n",
    "    user[\"IP\"] = id_ip_dict.get(user[\"user_id\"], \"未知\")\n",
    "    user_dict[user[\"user_id\"]] = user\n"
   ]
  },
  {
   "cell_type": "code",
   "execution_count": 4,
   "metadata": {},
   "outputs": [],
   "source": [
    "id_list = [user['user_id'] for user in user_dict.values()]\n",
    "\n",
    "placeholders = ', '.join(['%s'] * len(id_list))\n",
    "\n",
    "select_query = f\"\"\"\n",
    "SELECT \n",
    "    user_id, \n",
    "    id, \n",
    "    text, \n",
    "    DATE_FORMAT(created_at, '%%Y-%%m-%%dT%%H:%%i:%%s'), \n",
    "    attitudes_count, \n",
    "    comments_count, \n",
    "    reposts_count\n",
    "FROM `weibo`\n",
    "WHERE user_id IN ({placeholders})\n",
    "\"\"\"\n",
    "\n",
    "weibos_of_users = execute_sql(select_query, id_list)\n"
   ]
  },
  {
   "cell_type": "code",
   "execution_count": 6,
   "metadata": {},
   "outputs": [],
   "source": [
    "\n",
    "for user_id, user_info in user_dict.items():\n",
    "    weibos = [dict(zip(weibo_attributes[1:], weibo[1:])) \n",
    "              for weibo in weibos_of_users\n",
    "              if weibo[0] == user_id]\n",
    "    weibos.sort(key=lambda x: x[\"created_at\"])\n",
    "    user_info[\"weibo\"] = weibos"
   ]
  },
  {
   "cell_type": "code",
   "execution_count": 5,
   "metadata": {},
   "outputs": [
    {
     "data": {
      "text/plain": [
       "{'user_id': '1000129923',\n",
       " 'screen_name': '重铸无限城荣光',\n",
       " 'sex': 'f',\n",
       " 'statuses_count': 7991,\n",
       " 'IP': '湖南'}"
      ]
     },
     "execution_count": 5,
     "metadata": {},
     "output_type": "execute_result"
    }
   ],
   "source": [
    "import random\n",
    "\n",
    "user_dict[\"1000129923\"]\n"
   ]
  },
  {
   "cell_type": "code",
   "execution_count": 38,
   "metadata": {},
   "outputs": [],
   "source": [
    "with open('test100.json', 'w', encoding='utf-8') as f:\n",
    "    json.dump(user_dict, f, ensure_ascii=False, indent=4)"
   ]
  }
 ],
 "metadata": {
  "kernelspec": {
   "display_name": "base",
   "language": "python",
   "name": "python3"
  },
  "language_info": {
   "codemirror_mode": {
    "name": "ipython",
    "version": 3
   },
   "file_extension": ".py",
   "mimetype": "text/x-python",
   "name": "python",
   "nbconvert_exporter": "python",
   "pygments_lexer": "ipython3",
   "version": "3.11.3"
  }
 },
 "nbformat": 4,
 "nbformat_minor": 2
}
